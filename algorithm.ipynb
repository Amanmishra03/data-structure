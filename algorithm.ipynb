{
 "cells": [
  {
   "cell_type": "markdown",
   "metadata": {},
   "source": [
    "Algorithm\n",
    "* An algorithm is a process or a set of rules required to perform calculations or some other problem-solving operations especially by a computer. \n",
    "* A step by step problem to solve a problem is known as algorithm."
   ]
  },
  {
   "cell_type": "markdown",
   "metadata": {},
   "source": [
    "criteria of an algorithm\n",
    "* 1. input\n",
    "* 2. \n",
    "* 3. \n",
    "* 4. \n"
   ]
  }
 ],
 "metadata": {
  "language_info": {
   "name": "python"
  },
  "orig_nbformat": 4
 },
 "nbformat": 4,
 "nbformat_minor": 2
}
