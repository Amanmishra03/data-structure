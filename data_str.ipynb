{
 "cells": [
  {
   "cell_type": "markdown",
   "metadata": {},
   "source": [
    "Data structure\n",
    "* The data structure name indicates itself that organizing the data in memory. \n",
    "* A data structure is a storage that is used to store and organize data. It is a way of arranging data on a computer so that it can be accessed and updated efficiently.\n",
    "* Data Structure is a particular way of storing and organizing data in the memory of the computer so that these data can easily be retrieved and efficiently utilized in the future when required."
   ]
  },
  {
   "cell_type": "markdown",
   "metadata": {},
   "source": [
    "Type of data structure\n",
    "1. Linear data structure.\n",
    "- 1. static data structure\n",
    "- - 1. Array\n",
    "* 2. dynamic data structure\n",
    "* * 1. Queue\n",
    "- * 2. stack\n",
    "* - 3. linked list\n",
    "\n",
    "\n",
    "2. Non linear data structure.\n",
    "* 1. Tree\n",
    "* 2. Graph\n",
    "* 3. Heap \n",
    "* 4. Hash table\n",
    "\n"
   ]
  },
  {
   "cell_type": "markdown",
   "metadata": {},
   "source": [
    "Python Specific Data Structure\n",
    "1. List\n",
    "2. Tuple\n",
    "3. Dictionary\n",
    "4. Set"
   ]
  },
  {
   "cell_type": "markdown",
   "metadata": {},
   "source": [
    "Python Data structure\n",
    "1. Built in Data structure\n",
    "* * 1. List\n",
    "* * 2. Dictionary\n",
    "* * 3. Tuple\n",
    "* * 4. Set\n",
    "2. User Defined data structure\n",
    "* * 1. Stack.\n",
    "* * 2. Queue\n",
    "* * 3. Tree\n",
    "* * 4. Linked List\n",
    "* * 5. Graph\n"
   ]
  },
  {
   "cell_type": "markdown",
   "metadata": {},
   "source": []
  },
  {
   "cell_type": "markdown",
   "metadata": {},
   "source": [
    "List\n",
    "*  A list is a collection of different kinds of values or items.\n",
    "* Since Python lists are mutable, we can change their elements after forming. \n",
    "*  The comma (,) and the square brackets [enclose the List's items] serve as separators.\n"
   ]
  },
  {
   "cell_type": "code",
   "execution_count": null,
   "metadata": {},
   "outputs": [],
   "source": [
    "list = [1,2,\"key\", 5.4]\n",
    "print(list)"
   ]
  },
  {
   "cell_type": "code",
   "execution_count": null,
   "metadata": {},
   "outputs": [],
   "source": [
    "# empty list\n",
    "list = []\n",
    "print(list)"
   ]
  },
  {
   "cell_type": "code",
   "execution_count": null,
   "metadata": {},
   "outputs": [],
   "source": [
    "list = [1,2,1,2,4,5,6,4]\n",
    "print(list)"
   ]
  },
  {
   "cell_type": "code",
   "execution_count": null,
   "metadata": {},
   "outputs": [],
   "source": [
    "list = [\"you\", \"can\", 'do']\n",
    "print(list)"
   ]
  },
  {
   "cell_type": "code",
   "execution_count": null,
   "metadata": {},
   "outputs": [],
   "source": [
    "# nesting which means list under list\n",
    "list = [['hey', 'good'],['morning','bro']]\n",
    "print(list)"
   ]
  },
  {
   "cell_type": "code",
   "execution_count": null,
   "metadata": {},
   "outputs": [],
   "source": [
    "# list length check\n",
    "list = []\n",
    "print(len(list))\n",
    "\n",
    "list1 = [1, 2, 6 ,9 ,5]\n",
    "print(len(list1))\n",
    "\n",
    "list2 = ['hey', 5, 6, 'good']\n",
    "print(len(list2))"
   ]
  },
  {
   "cell_type": "markdown",
   "metadata": {},
   "source": [
    "concept of negative indexing "
   ]
  },
  {
   "cell_type": "code",
   "execution_count": null,
   "metadata": {},
   "outputs": [],
   "source": [
    "list = [1,2,3,'hey','abcd',5,6,7,8,9]\n",
    "print(list[-3])\n",
    "print(list[-1])\n"
   ]
  },
  {
   "cell_type": "markdown",
   "metadata": {},
   "source": [
    "Tuples\n",
    "* Tuple is a collection of objects separated by commas. In some ways, a tuple is similar to a Python list in terms of indexing, nested objects, and repetition but the main difference between both is Python tuple is immutable,\n",
    "* Tuples are an immutable data type, meaning their elements cannot be changed after they are generated.\n",
    "* Each element in a tuple has a specific order that will never change because tuples are ordered sequences.\n",
    "* All the objects-also known as \"elements\"-must be separated by a comma, enclosed in parenthesis (). Although parentheses are not required, they are recommended.\n"
   ]
  },
  {
   "cell_type": "code",
   "execution_count": null,
   "metadata": {},
   "outputs": [],
   "source": [
    "tuple = (1,2,34,7)\n",
    "print(type(tuple))\n",
    "\n",
    "tuple1 = ('1','2', '3','ram','shyam',4,6,9)\n",
    "print(type(tuple1))\n"
   ]
  },
  {
   "cell_type": "code",
   "execution_count": null,
   "metadata": {},
   "outputs": [],
   "source": [
    "my_tuple = (1, )\n",
    "print(type(my_tuple))\n",
    "\n",
    "my_tuple2 = 1,2,3,4\n",
    "type(my_tuple2)"
   ]
  },
  {
   "cell_type": "code",
   "execution_count": null,
   "metadata": {},
   "outputs": [],
   "source": [
    "tuple3 = ('hey', 2,4,5.3,'abcd')\n",
    "tuple3[0]"
   ]
  },
  {
   "cell_type": "markdown",
   "metadata": {},
   "source": [
    "Dictionary\n",
    "* The data is stored as key-value pairs using a Python dictionary.\n",
    "* keys can’t be repeated and must be immutable. \n",
    "* This data structure is mutable\n",
    "*  a dictionary can be created by placing a sequence of elements within curly {} braces, separated by ‘comma’.\n",
    "* Keys must only have one component.\n",
    "* Values can be of any type, including integer, list, and tuple.\n",
    "* In the dictionary, we cannot store multiple values for the same keys. If we pass more than one value for a single key, then the value which is last assigned is considered as the value of the key.\n",
    "* The key cannot belong to any mutable object in Python. Numbers, strings, or tuples can be used as the key, however mutable objects like lists cannot be used as the key in a dictionary.\n",
    "\n"
   ]
  },
  {
   "cell_type": "code",
   "execution_count": 11,
   "metadata": {},
   "outputs": [
    {
     "name": "stdout",
     "output_type": "stream",
     "text": [
      "{}\n"
     ]
    },
    {
     "data": {
      "text/plain": [
       "dict"
      ]
     },
     "execution_count": 11,
     "metadata": {},
     "output_type": "execute_result"
    }
   ],
   "source": [
    "Dict = {}\n",
    "print(Dict)\n",
    "type(Dict)"
   ]
  }
 ],
 "metadata": {
  "kernelspec": {
   "display_name": "base",
   "language": "python",
   "name": "python3"
  },
  "language_info": {
   "codemirror_mode": {
    "name": "ipython",
    "version": 3
   },
   "file_extension": ".py",
   "mimetype": "text/x-python",
   "name": "python",
   "nbconvert_exporter": "python",
   "pygments_lexer": "ipython3",
   "version": "3.11.4"
  },
  "orig_nbformat": 4
 },
 "nbformat": 4,
 "nbformat_minor": 2
}
