{
 "cells": [
  {
   "cell_type": "markdown",
   "metadata": {},
   "source": [
    "Python \n",
    "- 1. interpreted language\n",
    "- 2. object oriented language\n",
    "- 3. dynamically typte language :- means no need to define data type.\n",
    "- 4. ease of writing code"
   ]
  },
  {
   "cell_type": "code",
   "execution_count": null,
   "metadata": {},
   "outputs": [],
   "source": [
    "print(\"hello world\")"
   ]
  },
  {
   "cell_type": "markdown",
   "metadata": {},
   "source": [
    "Variable\n",
    "- 1. The first character of the variable must be an alphabet or underscore ( _ ).\n",
    "- 2. A Python variable name cannot start with a number.\n",
    "- 3. Variable in Python names are case-sensitive (name, Name, and     NAME are three different variables).\n",
    "- 4. The reserved words(keywords) in Python cannot be used to name the variable in Python.\n",
    "- 5. Identifier name must not contain any white-space, or special character (!, @, #, %, ^, &, *)."
   ]
  },
  {
   "cell_type": "code",
   "execution_count": null,
   "metadata": {},
   "outputs": [],
   "source": [
    "a = 10\n",
    "b = 20\n",
    "print(a+b)\n",
    "print('a+b')"
   ]
  },
  {
   "cell_type": "markdown",
   "metadata": {},
   "source": [
    "Data type\n",
    "1. Numbers\n",
    "-  integer\n",
    "-  complex number\n",
    "-  float\n",
    "2. Sequence Type\n",
    " -  string\n",
    " -  list\n",
    " -  tuple\n",
    "3. Boolean\n",
    "4. Set\n",
    "5. Dictionary"
   ]
  },
  {
   "cell_type": "code",
   "execution_count": null,
   "metadata": {},
   "outputs": [],
   "source": [
    "a = 20\n",
    "print(type(a))\n",
    "\n",
    "b = \"coding\"\n",
    "print(type(b))\n",
    "\n",
    "c = 5.4\n",
    "print(type(c))\n"
   ]
  },
  {
   "cell_type": "markdown",
   "metadata": {},
   "source": [
    "operator in python\n",
    "\n",
    "1. Arithmetic Operators\n",
    "- '+'\tAddition: \tx + y\n",
    "- –\tSubtraction: x – y\n",
    "- '*'\tMultiplication: \tx * y\n",
    "- /\tDivision (float): \tx / y\n",
    "- //\tDivision (floor): \tx // y\n",
    "- %\tModulus: returns the remainder when the first operand is divided by the second\tx % y\n",
    "- **\tPower: Returns first raised to power second\tx ** y\n",
    "\n",
    "2. Comparison Operators\n",
    "- '>'\tGreater than: \tx > y\n",
    "- <\tLess than: \tx < y\n",
    "- ==\tEqual to: \tx == y\n",
    "- !=\tNot equal to \tx != y\n",
    "- '>='\tGreater than or equal to  x >= y\n",
    "- <=\tLess than or equal to \tx <= y\n",
    "\n",
    "3. Logical Operators\n",
    "- and\tLogical AND: True if both the operands are true\tx and y\n",
    "- or\tLogical OR: True if either of the operands is true \tx or y\n",
    "- not\tLogical NOT: True if the operand is false \tnot x\n",
    "\n",
    "4. Bitwise Operators\n",
    "- &\tBitwise AND\tx & y\n",
    "- |\tBitwise OR\tx | y\n",
    "- ~\tBitwise NOT\t~x\n",
    "- ^\tBitwise XOR\tx ^ y\n",
    "- '>>\tBitwise right shift\tx>>\n",
    "- <<\tBitwise left shift\tx<<\n",
    "\n",
    "5. Assignment Operators\n",
    "- =\tAssign the value of the right side of the expression to the left side operand \tx = y + z\n",
    "- +=\tAdd AND: Add right-side operand with left-side operand and then assign to left operand\ta+=b     a=a+b\n",
    "- -=\tSubtract AND: Subtract right operand from left operand and then assign to left operand\ta-=b     a=a-b\n",
    "- *=\tMultiply AND: Multiply right operand with left operand and then assign to left operand\ta*=b     a=a*b\n",
    "- /=\tDivide AND: Divide left operand with right operand and then assign to left operand\ta/=b     a=a/b\n",
    "- %=\tModulus AND: Takes modulus using left and right operands and assign the result to left operand\ta%=b     a=a%b\n",
    "- //=\tDivide(floor) AND: Divide left operand with right operand and then assign the value(floor) to left operand\ta//=b     a=a//b\n",
    "- **='\tExponent AND: \ta**=b     a=a**b\n",
    "- &=\tPerforms Bitwise AND on operands and assign value to left operand\ta&=b     a=a&b\n",
    "- |=\tPerforms Bitwise OR on operands and assign value to left operand\ta|=b     a=a|b\n",
    "- ^=\tPerforms Bitwise xOR on operands and assign value to left operand\ta^=b     a=a^b\n",
    "- '>>='\tPerforms Bitwise right shift on operands and assign value to left operand\ta>>=b     a=a>>b\n",
    "- <<=\tPerforms Bitwise left shift on operands and assign value to left operand\ta <<= b     a= a << b\n",
    "\n",
    "6. Identity Operators \n",
    "- is          True if the operands are identical \n",
    "- is not      True if the operands are not identical \n",
    "\n",
    "7. Membership Operators\n",
    "- in            True if value is found in the sequence\n",
    "- not in        True if value is not found in the sequence\n",
    "\n"
   ]
  },
  {
   "cell_type": "code",
   "execution_count": null,
   "metadata": {},
   "outputs": [],
   "source": [
    "a = 20\n",
    "b = 2\n",
    "c = a**b\n",
    "print(c)\n"
   ]
  },
  {
   "cell_type": "code",
   "execution_count": null,
   "metadata": {},
   "outputs": [],
   "source": [
    "a = 17\n",
    "b = 10\n",
    "print(a/b)\n",
    "print(a//b)"
   ]
  },
  {
   "cell_type": "markdown",
   "metadata": {},
   "source": [
    "Input\n",
    "* all the input given by the user is in string data type"
   ]
  },
  {
   "cell_type": "code",
   "execution_count": null,
   "metadata": {},
   "outputs": [],
   "source": [
    "a = input(\"give some input\")\n",
    "print(type(a))\n",
    "print(a)\n"
   ]
  },
  {
   "cell_type": "markdown",
   "metadata": {},
   "source": [
    "M.C.Q"
   ]
  },
  {
   "cell_type": "code",
   "execution_count": 8,
   "metadata": {},
   "outputs": [
    {
     "name": "stdout",
     "output_type": "stream",
     "text": [
      "multiple\n"
     ]
    }
   ],
   "source": [
    "a = 10\n",
    "b = 20\n",
    "multiple= a*b\n",
    "print(\"multiple\")"
   ]
  },
  {
   "cell_type": "code",
   "execution_count": 9,
   "metadata": {},
   "outputs": [
    {
     "name": "stdout",
     "output_type": "stream",
     "text": [
      "<class 'int'>\n"
     ]
    }
   ],
   "source": [
    "x = \"abcd\"\n",
    "x = 10\n",
    "print(type(x))"
   ]
  }
 ],
 "metadata": {
  "kernelspec": {
   "display_name": "base",
   "language": "python",
   "name": "python3"
  },
  "language_info": {
   "codemirror_mode": {
    "name": "ipython",
    "version": 3
   },
   "file_extension": ".py",
   "mimetype": "text/x-python",
   "name": "python",
   "nbconvert_exporter": "python",
   "pygments_lexer": "ipython3",
   "version": "3.11.4"
  },
  "orig_nbformat": 4
 },
 "nbformat": 4,
 "nbformat_minor": 2
}
